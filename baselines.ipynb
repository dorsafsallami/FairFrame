{
 "cells": [
  {
   "cell_type": "code",
   "execution_count": null,
   "metadata": {
    "colab": {
     "base_uri": "https://localhost:8080/"
    },
    "executionInfo": {
     "elapsed": 6556,
     "status": "ok",
     "timestamp": 1621011892646,
     "user": {
      "displayName": "Manuel Plank",
      "photoUrl": "",
      "userId": "17725031238816109220"
     },
     "user_tz": -120
    },
    "id": "lLTGBVBsZz-P",
    "outputId": "e4d29228-16f7-4dbb-cc74-831a73498607"
   },
   "outputs": [],
   "source": [
    "import os\n",
    "import re\n",
    "import time\n",
    "import ast\n",
    "import warnings\n",
    "import math\n",
    "import copy\n",
    "import matplotlib.pyplot as plt\n",
    "from xgboost import plot_importance\n",
    "import seaborn as sns\n",
    "\n",
    "# data\n",
    "import pandas as pd\n",
    "import numpy as np\n",
    "import csv\n",
    "\n",
    "# ML\n",
    "from sklearn.preprocessing import MinMaxScaler\n",
    "from sklearn.model_selection import train_test_split\n",
    "from sklearn.model_selection import cross_val_score\n",
    "from sklearn.model_selection import cross_validate\n",
    "from sklearn.model_selection import KFold\n",
    "from sklearn import metrics\n",
    "\n",
    "!pip install scikit-plot\n",
    "import scikitplot as skplt\n",
    "import xgboost "
   ]
  },
  {
   "cell_type": "code",
   "execution_count": null,
   "metadata": {
    "executionInfo": {
     "elapsed": 184235,
     "status": "ok",
     "timestamp": 1621016162824,
     "user": {
      "displayName": "Manuel Plank",
      "photoUrl": "",
      "userId": "17725031238816109220"
     },
     "user_tz": -120
    },
    "id": "JjYkYmFRHTwr"
   },
   "outputs": [],
   "source": [
    "PATH = \"/content/drive/MyDrive/Fairness/data/MBIC.xlsx\"\n",
    "df = pd.read_excel(PATH)\n",
    "df.rename(columns={'sentence': 'sentence', 'label_bias': 'Label_bias'}, inplace=True)\n",
    "df.head()"
   ]
  },
  {
   "cell_type": "code",
   "execution_count": null,
   "metadata": {
    "colab": {
     "base_uri": "https://localhost:8080/"
    },
    "executionInfo": {
     "elapsed": 177496,
     "status": "ok",
     "timestamp": 1621016163401,
     "user": {
      "displayName": "Manuel Plank",
      "photoUrl": "",
      "userId": "17725031238816109220"
     },
     "user_tz": -120
    },
    "id": "VqX9cJUfZz-W",
    "outputId": "32739767-13b9-4b30-c436-07d58b034d37"
   },
   "outputs": [],
   "source": [
    "print('Number of missing values:')\n",
    "mis = (dt.isnull().sum()).to_frame()\n",
    "for i, row in mis.iterrows():\n",
    "    if row[0] > 0:\n",
    "        print(i, row[0])\n",
    "\n",
    "dt = dt.dropna(subset=['tfidf_art'])"
   ]
  },
  {
   "cell_type": "code",
   "execution_count": null,
   "metadata": {
    "colab": {
     "base_uri": "https://localhost:8080/",
     "height": 0
    },
    "executionInfo": {
     "elapsed": 175533,
     "status": "ok",
     "timestamp": 1621016163813,
     "user": {
      "displayName": "Manuel Plank",
      "photoUrl": "",
      "userId": "17725031238816109220"
     },
     "user_tz": -120
    },
    "id": "2I2wpV6ZbFGl",
    "outputId": "905d215a-2a26-43ba-8a34-aa8f937483e1"
   },
   "outputs": [],
   "source": [
    "dt.head()"
   ]
  },
  {
   "cell_type": "code",
   "execution_count": null,
   "metadata": {
    "colab": {
     "base_uri": "https://localhost:8080/"
    },
    "executionInfo": {
     "elapsed": 172267,
     "status": "ok",
     "timestamp": 1621016163814,
     "user": {
      "displayName": "Manuel Plank",
      "photoUrl": "",
      "userId": "17725031238816109220"
     },
     "user_tz": -120
    },
    "id": "_ut3SDFuc0fm",
    "outputId": "22fc74c1-5636-4a1b-db7f-85c9d12eb492"
   },
   "outputs": [],
   "source": [
    "len(dt['sentence'].unique())"
   ]
  },
  {
   "cell_type": "code",
   "execution_count": null,
   "metadata": {
    "executionInfo": {
     "elapsed": 170532,
     "status": "ok",
     "timestamp": 1621016163815,
     "user": {
      "displayName": "Manuel Plank",
      "photoUrl": "",
      "userId": "17725031238816109220"
     },
     "user_tz": -120
    },
    "id": "w48XlZ8CZz-a"
   },
   "outputs": [],
   "source": [
    "x = dt.drop(['label4', 'sentence'], 1)\n",
    "y4 = dt[['label4']]\n",
    "sentence = dt[['sentence']]"
   ]
  },
  {
   "cell_type": "code",
   "execution_count": null,
   "metadata": {
    "executionInfo": {
     "elapsed": 1007,
     "status": "ok",
     "timestamp": 1621016165326,
     "user": {
      "displayName": "Manuel Plank",
      "photoUrl": "",
      "userId": "17725031238816109220"
     },
     "user_tz": -120
    },
    "id": "s6ApvLwDZz-b"
   },
   "outputs": [],
   "source": [
    "train_features, test_features, train_labels, test_labels, train_sentences, test_sentences = train_test_split(x, y4, sentence,\n",
    "                                                                                                             test_size = 0.10, random_state = 42)\n",
    "train_features1, val_features, train_labels1, val_labels, train_sentences1, val_sentences = train_test_split(train_features, train_labels, train_sentences,\n",
    "                                                                                                             test_size = 0.10, random_state = 42)"
   ]
  },
  {
   "cell_type": "code",
   "execution_count": null,
   "metadata": {
    "executionInfo": {
     "elapsed": 994,
     "status": "ok",
     "timestamp": 1621016165328,
     "user": {
      "displayName": "Manuel Plank",
      "photoUrl": "",
      "userId": "17725031238816109220"
     },
     "user_tz": -120
    },
    "id": "e7pWACwBZz-b"
   },
   "outputs": [],
   "source": [
    "feature_names = list(x.columns)"
   ]
  },
  {
   "cell_type": "code",
   "execution_count": null,
   "metadata": {
    "executionInfo": {
     "elapsed": 1072,
     "status": "ok",
     "timestamp": 1621016166412,
     "user": {
      "displayName": "Manuel Plank",
      "photoUrl": "",
      "userId": "17725031238816109220"
     },
     "user_tz": -120
    },
    "id": "l2JCrBnAZz-b"
   },
   "outputs": [],
   "source": [
    "dtrain = xgboost.DMatrix(train_features, label=train_labels, feature_names=feature_names)\n",
    "dtest = xgboost.DMatrix(test_features, label=test_labels, feature_names=feature_names)\n",
    "dtrain1 = xgboost.DMatrix(train_features1, label=train_labels1, feature_names=feature_names)\n",
    "dval = xgboost.DMatrix(val_features, label=val_labels, feature_names=feature_names)"
   ]
  },
  {
   "cell_type": "code",
   "execution_count": null,
   "metadata": {
    "colab": {
     "base_uri": "https://localhost:8080/"
    },
    "executionInfo": {
     "elapsed": 802,
     "status": "ok",
     "timestamp": 1621016167236,
     "user": {
      "displayName": "Manuel Plank",
      "photoUrl": "",
      "userId": "17725031238816109220"
     },
     "user_tz": -120
    },
    "id": "sLfaNihMZz-c",
    "outputId": "35aa387e-833a-460b-a2e6-0b23743eaa6d"
   },
   "outputs": [],
   "source": [
    "print('Training Features Shape:', train_features.shape)\n",
    "print('Training Labels Shape:', train_labels.shape)\n",
    "print('Testing Features Shape:', test_features.shape)\n",
    "print('Testing Labels Shape:', test_labels.shape)\n",
    "print('Training Features for final model Shape:', train_features1.shape)\n",
    "print('Training Labels for final model Shape:', train_labels1.shape)\n",
    "print('Validation Features Shape:', val_features.shape)\n",
    "print('Validation Labels Shape:', val_labels.shape)"
   ]
  },
  {
   "cell_type": "markdown",
   "metadata": {
    "id": "n50XEa1xZz-c"
   },
   "source": [
    "##  Baselines"
   ]
  },
  {
   "cell_type": "markdown",
   "metadata": {
    "id": "h2AHIcWHZz-c"
   },
   "source": [
    "### B1: Random guesser"
   ]
  },
  {
   "cell_type": "code",
   "execution_count": null,
   "metadata": {
    "id": "_EP2P2LIZz-d"
   },
   "outputs": [],
   "source": [
    "b1_pred = pd.Series(np.random.randint(2, size=len(test_features)))"
   ]
  },
  {
   "cell_type": "code",
   "execution_count": null,
   "metadata": {
    "id": "EFUT7u9_Zz-d",
    "outputId": "70336bba-22e9-4080-a842-887cd595c5c6"
   },
   "outputs": [],
   "source": [
    "print('Performance of b1, test:')\n",
    "print('F1:', round(metrics.f1_score(test_labels,b1_pred),2))\n",
    "print('Precision:', round(metrics.precision_score(test_labels,b1_pred),2))\n",
    "print('Recall:', round(metrics.recall_score(test_labels,b1_pred),2))\n",
    "print('AUC:', round(metrics.roc_auc_score(test_labels,b1_pred),2))\n",
    "print('Accuracy:', round(metrics.accuracy_score(test_labels,b1_pred),2))\n",
    "print('Confusion matrix:\\n', \n",
    "      metrics.confusion_matrix(test_labels,b1_pred).transpose())"
   ]
  },
  {
   "cell_type": "markdown",
   "metadata": {
    "id": "3Y78Ta5AZz-d"
   },
   "source": [
    "### B2: Negative sentiment lexicon"
   ]
  },
  {
   "cell_type": "code",
   "execution_count": null,
   "metadata": {
    "id": "KWx9X6GfZz-d"
   },
   "outputs": [],
   "source": [
    "b2_pred = test_features.negative_conc"
   ]
  },
  {
   "cell_type": "code",
   "execution_count": null,
   "metadata": {
    "id": "eiitDyRhZz-e",
    "outputId": "259a8f26-a8f1-42e9-92a4-2bcda83de3b0"
   },
   "outputs": [],
   "source": [
    "print('Performance of b2, test:')\n",
    "print('F1:', round(metrics.f1_score(test_labels,b2_pred),2))\n",
    "print('Precision:', round(metrics.precision_score(test_labels,b2_pred),2))\n",
    "print('Recall:', round(metrics.recall_score(test_labels,b2_pred),2))\n",
    "print('AUC:', round(metrics.roc_auc_score(test_labels,b2_pred),2))\n",
    "print('Accuracy:', round(metrics.accuracy_score(test_labels,b2_pred),2))\n",
    "print('Confusion matrix:\\n', metrics.confusion_matrix(test_labels,b2_pred).transpose())"
   ]
  },
  {
   "cell_type": "code",
   "execution_count": null,
   "metadata": {
    "id": "08lU2RCtZz-e",
    "outputId": "2ad366c1-b911-4e65-da37-ef2dc08979ee"
   },
   "outputs": [],
   "source": [
    "cf_matrix = metrics.confusion_matrix(test_labels,b2_pred)\n",
    "TN = cf_matrix[0][0]\n",
    "FN = cf_matrix[1][0]\n",
    "TP = cf_matrix[1][1]\n",
    "FP = cf_matrix[0][1]\n",
    "fl = [TN, FN, FP, TP]\n",
    "fig, ax = plt.subplots(figsize=(8,6))\n",
    "\n",
    "sns.set(font_scale=2)\n",
    "group_names = ['TN','FN','FP','TP']\n",
    "group_counts = [\"{0:0.0f}\".format(value) for value in fl]\n",
    "group_percentages = [\"{0:.2%}\".format(value) for value in\n",
    "                     fl/np.sum(cf_matrix)]\n",
    "labels = [f\"{v1}\\n{v2}\\n{v3}\" for v1, v2, v3 in\n",
    "          zip(group_names,group_counts,group_percentages)]\n",
    "labels = np.asarray(labels).reshape(2,2)\n",
    "\n",
    "sns.heatmap(cf_matrix, annot=labels, fmt='', cmap=\"BuPu\")\n",
    "plt.ylabel('Predicted', fontsize=20)\n",
    "plt.xlabel('Actual', fontsize=20)\n",
    "ax.set_ylim([0,2])\n",
    "ax.invert_yaxis()"
   ]
  },
  {
   "cell_type": "code",
   "execution_count": null,
   "metadata": {
    "id": "XI6cWC33Zz-f",
    "outputId": "69561842-0677-4ad4-b25c-27d48713e275"
   },
   "outputs": [],
   "source": [
    "plt.rcParams['font.size'] = 16\n",
    "plt.subplots(1, 1, figsize=(5,5))\n",
    "\n",
    "rand_probs = [0 for _ in range(len(test_labels))]\n",
    "rand_fpr, rand_tpr, thresholds = metrics.roc_curve(test_labels, rand_probs)\n",
    "\n",
    "fpr, tpr, thresholds = metrics.roc_curve(test_labels, b2_pred,\n",
    "                                         pos_label=1)\n",
    "plt.plot(fpr, tpr, linewidth=3, color='purple')\n",
    "plt.plot(rand_fpr, rand_tpr, linestyle='--', linewidth=3, color='lightblue')\n",
    "plt.title(\"ROC Curve\", fontsize=20)\n",
    "plt.xlabel(\"FP Rate\", fontsize=20)\n",
    "plt.ylabel(\"TP Rate\", fontsize=20)\n",
    "plt.show()"
   ]
  },
  {
   "cell_type": "markdown",
   "metadata": {
    "id": "18Sjo2KpZz-g"
   },
   "source": [
    "### B3: Negative and positive sentiment lexicon"
   ]
  },
  {
   "cell_type": "code",
   "execution_count": null,
   "metadata": {
    "id": "4dE-TRbUZz-g"
   },
   "outputs": [],
   "source": [
    "b3_pred = test_features.apply(lambda row: 1 if row.negative_conc==1 or row.positive_conc==1 else 0, axis=1)"
   ]
  },
  {
   "cell_type": "code",
   "execution_count": null,
   "metadata": {
    "id": "fk3omCnLZz-h",
    "outputId": "80a37719-d626-4b05-c227-e6346f6f47bf"
   },
   "outputs": [],
   "source": [
    "print('Performance of b3, test:')\n",
    "print('F1:', round(metrics.f1_score(test_labels,b3_pred),2))\n",
    "print('Precision:', round(metrics.precision_score(test_labels,b3_pred),2))\n",
    "print('Recall:', round(metrics.recall_score(test_labels,b3_pred),2))\n",
    "print('AUC:', round(metrics.roc_auc_score(test_labels,b3_pred),2))\n",
    "print('Accuracy:', round(metrics.accuracy_score(test_labels,b3_pred),2))\n",
    "print('Confusion matrix:\\n', \n",
    "      metrics.confusion_matrix(test_labels,b3_pred).transpose())"
   ]
  },
  {
   "cell_type": "markdown",
   "metadata": {
    "id": "dWlwf0t7Zz-i"
   },
   "source": [
    "### B4: Semi-automated bias lexicon"
   ]
  },
  {
   "cell_type": "code",
   "execution_count": null,
   "metadata": {
    "id": "6_jPE0fNZz-i"
   },
   "outputs": [],
   "source": [
    "b4_pred = test_features.bias_lexicon"
   ]
  },
  {
   "cell_type": "code",
   "execution_count": null,
   "metadata": {
    "id": "ZNVI2wgeZz-j",
    "outputId": "c6d39819-69ab-4be4-a462-6bf1d399ea04"
   },
   "outputs": [],
   "source": [
    "print('Performance of b4, test:')\n",
    "print('F1:', round(metrics.f1_score(test_labels,b4_pred),2))\n",
    "print('Precision:', round(metrics.precision_score(test_labels,b4_pred),2))\n",
    "print('Recall:', round(metrics.recall_score(test_labels,b4_pred),2))\n",
    "print('AUC:', round(metrics.roc_auc_score(test_labels,b4_pred),2))\n",
    "print('Accuracy:', round(metrics.accuracy_score(test_labels,b4_pred),2))\n",
    "print('Confusion matrix:\\n', \n",
    "      metrics.confusion_matrix(test_labels,b4_pred).transpose())"
   ]
  },
  {
   "cell_type": "markdown",
   "metadata": {
    "id": "8PyQBOEWZz-j"
   },
   "source": [
    "## 3 XGBoost optimization"
   ]
  },
  {
   "cell_type": "code",
   "execution_count": null,
   "metadata": {
    "colab": {
     "base_uri": "https://localhost:8080/"
    },
    "executionInfo": {
     "elapsed": 790,
     "status": "ok",
     "timestamp": 1621016167238,
     "user": {
      "displayName": "Manuel Plank",
      "photoUrl": "",
      "userId": "17725031238816109220"
     },
     "user_tz": -120
    },
    "id": "iczxxoLAZz-k",
    "outputId": "1f40def4-e416-4f1d-e9f9-0d9c0d1ca580"
   },
   "outputs": [],
   "source": [
    "print('Biased words:',round(len(y4[y4['label4']==1])/len(y4)*100,0),'%')\n",
    "print('Neutral words:',round(len(y4[y4['label4']==0])/len(y4)*100,0),'%')"
   ]
  },
  {
   "cell_type": "code",
   "execution_count": null,
   "metadata": {
    "executionInfo": {
     "elapsed": 781,
     "status": "ok",
     "timestamp": 1621016167239,
     "user": {
      "displayName": "Manuel Plank",
      "photoUrl": "",
      "userId": "17725031238816109220"
     },
     "user_tz": -120
    },
    "id": "2QT63zODLnEM"
   },
   "outputs": [],
   "source": [
    "def f1_eval(predt: np.ndarray, dtrain: xgboost.DMatrix):\n",
    "    y = dtrain.get_label()\n",
    "    predt_binary = np.where(predt > 0.5, 1, 0)\n",
    "    return \"F1_score\", metrics.f1_score(y_true=y, y_pred=predt_binary)"
   ]
  },
  {
   "cell_type": "markdown",
   "metadata": {
    "id": "Aq4j6un0Zz-k"
   },
   "source": [
    "### 3.1 Hyper-parameters tuning"
   ]
  },
  {
   "cell_type": "code",
   "execution_count": null,
   "metadata": {
    "colab": {
     "base_uri": "https://localhost:8080/"
    },
    "executionInfo": {
     "elapsed": 567,
     "status": "ok",
     "timestamp": 1621012137332,
     "user": {
      "displayName": "Manuel Plank",
      "photoUrl": "",
      "userId": "17725031238816109220"
     },
     "user_tz": -120
    },
    "id": "kHJXSGFBZz-l",
    "outputId": "02fbc71c-6943-4f30-9eaa-68bd7b069d8b"
   },
   "outputs": [],
   "source": [
    "scale_pos_weight = len(train_labels[train_labels['label4']==0])/len(train_labels[train_labels['label4']==1])\n",
    "scale_pos_weight"
   ]
  },
  {
   "cell_type": "code",
   "execution_count": null,
   "metadata": {
    "executionInfo": {
     "elapsed": 600,
     "status": "ok",
     "timestamp": 1621012139062,
     "user": {
      "displayName": "Manuel Plank",
      "photoUrl": "",
      "userId": "17725031238816109220"
     },
     "user_tz": -120
    },
    "id": "qOipcdtyZz-m"
   },
   "outputs": [],
   "source": [
    "params = {\n",
    "    'max_depth':6,\n",
    "    'min_child_weight': 1,\n",
    "    'eta':.3,\n",
    "    'subsample': 1,\n",
    "    'colsample_bytree': 1,\n",
    "    'objective':\"binary:logistic\",\n",
    "    'disable_default_eval_metric': 1,\n",
    "    'seed': 42,\n",
    "    'tree_method': 'hist',\n",
    "    'scale_pos_weight': scale_pos_weight\n",
    "}\n",
    "\n",
    "num_boost_round = 999"
   ]
  },
  {
   "cell_type": "code",
   "execution_count": null,
   "metadata": {
    "executionInfo": {
     "elapsed": 474,
     "status": "ok",
     "timestamp": 1621012141389,
     "user": {
      "displayName": "Manuel Plank",
      "photoUrl": "",
      "userId": "17725031238816109220"
     },
     "user_tz": -120
    },
    "id": "rHFtj3JhZz-m"
   },
   "outputs": [],
   "source": [
    "def f1_eval(predt: np.ndarray, dtrain: xgboost.DMatrix):\n",
    "    y = dtrain.get_label()\n",
    "    predt_binary = np.where(predt > 0.5, 1, 0)\n",
    "    return \"F1_score\", metrics.f1_score(y_true=y, y_pred=predt_binary)"
   ]
  },
  {
   "cell_type": "code",
   "execution_count": null,
   "metadata": {
    "executionInfo": {
     "elapsed": 785,
     "status": "ok",
     "timestamp": 1621012143202,
     "user": {
      "displayName": "Manuel Plank",
      "photoUrl": "",
      "userId": "17725031238816109220"
     },
     "user_tz": -120
    },
    "id": "PabzCbCYZz-n"
   },
   "outputs": [],
   "source": [
    "gridsearch_params = [\n",
    "    (max_depth, min_child_weight)\n",
    "    for max_depth in range(6,13,1)\n",
    "    for min_child_weight in range(4,41,2)\n",
    "]"
   ]
  },
  {
   "cell_type": "code",
   "execution_count": null,
   "metadata": {
    "colab": {
     "base_uri": "https://localhost:8080/"
    },
    "executionInfo": {
     "elapsed": 2654784,
     "status": "ok",
     "timestamp": 1621014799001,
     "user": {
      "displayName": "Manuel Plank",
      "photoUrl": "",
      "userId": "17725031238816109220"
     },
     "user_tz": -120
    },
    "id": "17Hrqj4TZz-n",
    "outputId": "0a0684bc-0df8-4445-e771-e8a953488aa1"
   },
   "outputs": [],
   "source": [
    "start_time = time.time()\n",
    "max_f1 = float(0)\n",
    "best_params = None\n",
    "for max_depth, min_child_weight in gridsearch_params:\n",
    "    print(\"CV with max_depth={}, min_child_weight={}\".format(\n",
    "                             max_depth,\n",
    "                             min_child_weight))\n",
    "    \n",
    "    params['max_depth'] = max_depth\n",
    "    params['min_child_weight'] = min_child_weight\n",
    "    \n",
    "    cv_results = xgboost.cv(\n",
    "        params,\n",
    "        dtrain,\n",
    "        num_boost_round=num_boost_round,\n",
    "        seed=42,\n",
    "        nfold=5,\n",
    "        feval=f1_eval,\n",
    "        early_stopping_rounds = 10,\n",
    "        maximize=True)\n",
    "    \n",
    "    mean_f1 = cv_results['test-F1_score-mean'].max()\n",
    "    boost_rounds = cv_results['test-F1_score-mean'].argmax()\n",
    "    print(\"\\tF1 {} for {} rounds\".format(mean_f1, boost_rounds))\n",
    "    if mean_f1 > max_f1:\n",
    "        max_f1 = mean_f1\n",
    "        best_params = (max_depth,min_child_weight)\n",
    "print(\"Best params: {}, {}, F1: {}\".format(best_params[0], best_params[1], max_f1))\n",
    "end_time = time.time()\n",
    "print('time:', end_time - start_time)"
   ]
  },
  {
   "cell_type": "code",
   "execution_count": null,
   "metadata": {
    "executionInfo": {
     "elapsed": 2649478,
     "status": "ok",
     "timestamp": 1621014799004,
     "user": {
      "displayName": "Manuel Plank",
      "photoUrl": "",
      "userId": "17725031238816109220"
     },
     "user_tz": -120
    },
    "id": "B-tT0pyOZz-r"
   },
   "outputs": [],
   "source": [
    "params['max_depth'] = best_params[0]\n",
    "params['min_child_weight'] = best_params[1]"
   ]
  },
  {
   "cell_type": "code",
   "execution_count": null,
   "metadata": {
    "executionInfo": {
     "elapsed": 2647981,
     "status": "ok",
     "timestamp": 1621014799005,
     "user": {
      "displayName": "Manuel Plank",
      "photoUrl": "",
      "userId": "17725031238816109220"
     },
     "user_tz": -120
    },
    "id": "Kp3Fj6dsZz-s"
   },
   "outputs": [],
   "source": [
    "gridsearch_params = [\n",
    "    (subsample, colsample)\n",
    "    for subsample in [i/10. for i in range(6,11,2)]\n",
    "    for colsample in [i/10. for i in range(4,11,2)]\n",
    "]"
   ]
  },
  {
   "cell_type": "code",
   "execution_count": null,
   "metadata": {
    "colab": {
     "base_uri": "https://localhost:8080/"
    },
    "executionInfo": {
     "elapsed": 939368,
     "status": "ok",
     "timestamp": 1621015068811,
     "user": {
      "displayName": "Manuel Plank",
      "photoUrl": "",
      "userId": "17725031238816109220"
     },
     "user_tz": -120
    },
    "id": "H71Y1EsPZz-s",
    "outputId": "5e3a303b-686f-4fb9-9ffa-638db9f6455c"
   },
   "outputs": [],
   "source": [
    "start_time = time.time()\n",
    "max_f1 = float(0)\n",
    "best_params = None\n",
    "\n",
    "for subsample, colsample in reversed(gridsearch_params):\n",
    "    print(\"CV with subsample={}, colsample={}\".format(\n",
    "                             subsample,\n",
    "                             colsample))\n",
    "    \n",
    "    params['subsample'] = subsample\n",
    "    params['colsample_bytree'] = colsample\n",
    "    \n",
    "    cv_results = xgboost.cv(\n",
    "        params,\n",
    "        dtrain,\n",
    "        num_boost_round=num_boost_round,\n",
    "        seed=42,\n",
    "        nfold=5,\n",
    "        feval=f1_eval,\n",
    "        early_stopping_rounds = 10,\n",
    "        maximize=True)\n",
    "    \n",
    "    mean_f1 = cv_results['test-F1_score-mean'].max()\n",
    "    boost_rounds = cv_results['test-F1_score-mean'].argmax()\n",
    "    print(\"\\tF1 {} for {} rounds\".format(mean_f1, boost_rounds))\n",
    "    if mean_f1 > max_f1:\n",
    "        max_f1 = mean_f1\n",
    "        best_params = (subsample,colsample)\n",
    "print(\"Best params: {}, {}, F1: {}\".format(best_params[0], best_params[1], max_f1))\n",
    "end_time = time.time()\n",
    "print('time:', end_time - start_time)"
   ]
  },
  {
   "cell_type": "code",
   "execution_count": null,
   "metadata": {
    "executionInfo": {
     "elapsed": 636,
     "status": "ok",
     "timestamp": 1621015069471,
     "user": {
      "displayName": "Manuel Plank",
      "photoUrl": "",
      "userId": "17725031238816109220"
     },
     "user_tz": -120
    },
    "id": "Gtyy6RneZz-t"
   },
   "outputs": [],
   "source": [
    "params['subsample'] = best_params[0]\n",
    "params['colsample_bytree'] = best_params[1]"
   ]
  },
  {
   "cell_type": "code",
   "execution_count": null,
   "metadata": {
    "colab": {
     "base_uri": "https://localhost:8080/"
    },
    "executionInfo": {
     "elapsed": 78618,
     "status": "ok",
     "timestamp": 1621015147473,
     "user": {
      "displayName": "Manuel Plank",
      "photoUrl": "",
      "userId": "17725031238816109220"
     },
     "user_tz": -120
    },
    "id": "5-yRvw_xZz-t",
    "jupyter": {
     "outputs_hidden": true
    },
    "outputId": "eb781367-cce5-4592-fe4e-e95712b91c9d"
   },
   "outputs": [],
   "source": [
    "start_time = time.time()\n",
    "max_f1 = float(0)\n",
    "best_params = None\n",
    "\n",
    "for eta in [0.3, 0.2, 0.1, 0.01, 0.005]:\n",
    "    print(\"CV with eta={}\".format(eta))\n",
    "\n",
    "    params['eta'] = eta\n",
    "\n",
    "    cv_results = xgboost.cv(\n",
    "            params,\n",
    "            dtrain,\n",
    "            num_boost_round=num_boost_round,\n",
    "            seed=42,\n",
    "            nfold=5,\n",
    "            feval=f1_eval,\n",
    "            early_stopping_rounds = 10,\n",
    "            maximize=True)\n",
    "\n",
    "    mean_f1 = cv_results['test-F1_score-mean'].max()\n",
    "    boost_rounds = cv_results['test-F1_score-mean'].argmax()\n",
    "    print(\"\\tF1 {} for {} rounds\\n\".format(mean_f1, boost_rounds))\n",
    "    if mean_f1 > max_f1:\n",
    "        max_f1 = mean_f1\n",
    "        best_params = eta\n",
    "print(\"Best params: {}, F1: {}\".format(best_params, max_f1))\n",
    "end_time = time.time()\n",
    "print('time:', end_time - start_time)"
   ]
  },
  {
   "cell_type": "code",
   "execution_count": null,
   "metadata": {
    "executionInfo": {
     "elapsed": 78617,
     "status": "ok",
     "timestamp": 1621015147474,
     "user": {
      "displayName": "Manuel Plank",
      "photoUrl": "",
      "userId": "17725031238816109220"
     },
     "user_tz": -120
    },
    "id": "Lcq7bcJZZz-t"
   },
   "outputs": [],
   "source": [
    "params['eta'] = best_params"
   ]
  },
  {
   "cell_type": "markdown",
   "metadata": {
    "id": "fgg84yHVZz-u"
   },
   "source": [
    "### 3.2 Final model training and evaluation"
   ]
  },
  {
   "cell_type": "code",
   "execution_count": null,
   "metadata": {
    "executionInfo": {
     "elapsed": 777,
     "status": "ok",
     "timestamp": 1621016167240,
     "user": {
      "displayName": "Manuel Plank",
      "photoUrl": "",
      "userId": "17725031238816109220"
     },
     "user_tz": -120
    },
    "id": "E395ExzPZz-u"
   },
   "outputs": [],
   "source": [
    "params = {'max_depth': 10,\n",
    " 'min_child_weight': 20,\n",
    " 'eta': 0.3,\n",
    " 'subsample': 1.0,\n",
    " 'colsample_bytree': 1.0,\n",
    " 'objective': 'binary:logistic',\n",
    " 'disable_default_eval_metric': 1,\n",
    " 'seed': 42,\n",
    " 'tree_method': 'hist',\n",
    " 'scale_pos_weight': scale_pos_weight}\n",
    "num_boost_round=999"
   ]
  },
  {
   "cell_type": "code",
   "execution_count": null,
   "metadata": {
    "colab": {
     "base_uri": "https://localhost:8080/"
    },
    "executionInfo": {
     "elapsed": 13046,
     "status": "ok",
     "timestamp": 1621016179516,
     "user": {
      "displayName": "Manuel Plank",
      "photoUrl": "",
      "userId": "17725031238816109220"
     },
     "user_tz": -120
    },
    "id": "qKJXTfeuZz-u",
    "outputId": "8ef38627-76d0-44fa-95ae-5d7fd507a400",
    "scrolled": true
   },
   "outputs": [],
   "source": [
    "xgboost_tuned_weighted = xgboost.train(\n",
    "    params,\n",
    "    dtrain1,\n",
    "    num_boost_round=num_boost_round,\n",
    "    evals=[(dtrain1, 'dtrain'), (dval, 'dval')],\n",
    "    feval=f1_eval,\n",
    "    early_stopping_rounds = 10,\n",
    "    maximize=True)"
   ]
  },
  {
   "cell_type": "code",
   "execution_count": null,
   "metadata": {
    "colab": {
     "base_uri": "https://localhost:8080/"
    },
    "executionInfo": {
     "elapsed": 696,
     "status": "ok",
     "timestamp": 1621016180304,
     "user": {
      "displayName": "Manuel Plank",
      "photoUrl": "",
      "userId": "17725031238816109220"
     },
     "user_tz": -120
    },
    "id": "j-i0l-KWZz-v",
    "outputId": "d7c4952e-fece-4f06-ecbf-53b28db6fbee"
   },
   "outputs": [],
   "source": [
    "xgboost_tuned_weighted_predt = np.where(xgboost_tuned_weighted.predict(dtest) > 0.5, 1, 0)\n",
    "print('Performance of xgboost_tuned_weighted, test:')\n",
    "print('F1:', round(metrics.f1_score(dtest.get_label(),xgboost_tuned_weighted_predt),2))\n",
    "print('Precision:', round(metrics.precision_score(dtest.get_label(), xgboost_tuned_weighted_predt),2))\n",
    "print('Recall:', round(metrics.recall_score(dtest.get_label(), xgboost_tuned_weighted_predt),2))\n",
    "print('AUC:', round(metrics.roc_auc_score(dtest.get_label(), xgboost_tuned_weighted_predt),2))\n",
    "print('Accuracy:', round(metrics.accuracy_score(dtest.get_label(), xgboost_tuned_weighted_predt),2))\n",
    "print('Confusion matrix:\\n', \n",
    "      metrics.confusion_matrix(dtest.get_label(), xgboost_tuned_weighted_predt).transpose())"
   ]
  },
  {
   "cell_type": "code",
   "execution_count": null,
   "metadata": {
    "colab": {
     "base_uri": "https://localhost:8080/"
    },
    "executionInfo": {
     "elapsed": 1151,
     "status": "ok",
     "timestamp": 1621016180768,
     "user": {
      "displayName": "Manuel Plank",
      "photoUrl": "",
      "userId": "17725031238816109220"
     },
     "user_tz": -120
    },
    "id": "01YDAjrznc8S",
    "outputId": "e61076a8-230d-4c7b-c786-56a5ba1b651f"
   },
   "outputs": [],
   "source": [
    "test_sentences['pred'] = xgboost_tuned_weighted_predt"
   ]
  },
  {
   "cell_type": "code",
   "execution_count": null,
   "metadata": {
    "colab": {
     "base_uri": "https://localhost:8080/"
    },
    "executionInfo": {
     "elapsed": 1144,
     "status": "ok",
     "timestamp": 1621016180770,
     "user": {
      "displayName": "Manuel Plank",
      "photoUrl": "",
      "userId": "17725031238816109220"
     },
     "user_tz": -120
    },
    "id": "Yeo1Oq0UOY1k",
    "outputId": "2bdacd97-d6be-4491-9182-cbc0d3ee0663"
   },
   "outputs": [],
   "source": [
    "len(test_sentences['sentence'].unique())"
   ]
  },
  {
   "cell_type": "code",
   "execution_count": null,
   "metadata": {
    "colab": {
     "base_uri": "https://localhost:8080/"
    },
    "executionInfo": {
     "elapsed": 599,
     "status": "ok",
     "timestamp": 1621016181384,
     "user": {
      "displayName": "Manuel Plank",
      "photoUrl": "",
      "userId": "17725031238816109220"
     },
     "user_tz": -120
    },
    "id": "Lwu2c3W1NSvN",
    "outputId": "6077314a-c461-4a19-fc88-c4a2ccad68b7"
   },
   "outputs": [],
   "source": [
    "test_sentences_hat = test_sentences.groupby('sentence', as_index=False).agg({'pred': 'sum'})\n",
    "print('Number of predicted biased words per sentence:\\n',test_sentences_hat['pred'].value_counts())\n",
    "\n",
    "# rule: if one ore more bias words are in a sentence, the sentence will be labelled as biased\n",
    "test_sentences_hat['Label_bias_hat'] = test_sentences_hat['pred'].apply(lambda x: 1 if x > 0 else 0)\n",
    "print('Prediction on the sentence level:\\n', test_sentences_hat['Label_bias_hat'].value_counts())"
   ]
  },
  {
   "cell_type": "code",
   "execution_count": null,
   "metadata": {
    "colab": {
     "base_uri": "https://localhost:8080/",
     "height": 672
    },
    "executionInfo": {
     "elapsed": 1365,
     "status": "ok",
     "timestamp": 1621016182163,
     "user": {
      "displayName": "Manuel Plank",
      "photoUrl": "",
      "userId": "17725031238816109220"
     },
     "user_tz": -120
    },
    "id": "fb3fWP5drJyd",
    "outputId": "b92ef700-1ee1-4f42-c3b6-6cfce60f00ef"
   },
   "outputs": [],
   "source": [
    "PATH_sg2 = \"data/final_labels_SG2.xlsx\"\n",
    "sentences_ground_truth = pd.read_excel(PATH_sg2)\n",
    "sentences_ground_truth.rename(columns={'text': 'sentence', 'label_bias': 'Label_bias'}, inplace=True)\n",
    "sentences_ground_truth = sentences_ground_truth[sentences_ground_truth['Label_bias']!='No agreement']\n",
    "sentences_ground_truth.replace(to_replace='Biased', value=1, inplace=True)\n",
    "sentences_ground_truth.replace(to_replace='Non-biased', value=0, inplace=True)\n",
    "\n",
    "sentences_ground_truth = test_sentences_hat.merge(right=sentences_ground_truth, how='left', on='sentence')\n",
    "sentences_ground_truth = sentences_ground_truth[sentences_ground_truth['Label_bias'].isna() == False]\n",
    "sentences_ground_truth "
   ]
  },
  {
   "cell_type": "code",
   "execution_count": null,
   "metadata": {
    "colab": {
     "base_uri": "https://localhost:8080/"
    },
    "executionInfo": {
     "elapsed": 740,
     "status": "ok",
     "timestamp": 1621016182932,
     "user": {
      "displayName": "Manuel Plank",
      "photoUrl": "",
      "userId": "17725031238816109220"
     },
     "user_tz": -120
    },
    "id": "_2NxFgEjtuLC",
    "outputId": "1795a0f0-9365-4236-fda8-89630219f5f4"
   },
   "outputs": [],
   "source": [
    "print('Performance of xgboost_tuned_weighted, test:')\n",
    "print('F1:', round(metrics.f1_score(sentences_ground_truth['Label_bias'],sentences_ground_truth['Label_bias_hat']),2))\n",
    "print('Precision:', round(metrics.precision_score(sentences_ground_truth['Label_bias'],sentences_ground_truth['Label_bias_hat']),2))\n",
    "print('Recall:', round(metrics.recall_score(sentences_ground_truth['Label_bias'],sentences_ground_truth['Label_bias_hat']),2))\n",
    "print('AUC:', round(metrics.roc_auc_score(sentences_ground_truth['Label_bias'],sentences_ground_truth['Label_bias_hat']),2))\n",
    "print('Accuracy:', round(metrics.accuracy_score(sentences_ground_truth['Label_bias'],sentences_ground_truth['Label_bias_hat']),2))\n",
    "print('Confusion matrix:\\n', \n",
    "      metrics.confusion_matrix(sentences_ground_truth['Label_bias'],sentences_ground_truth['Label_bias_hat']).transpose())"
   ]
  },
  {
   "cell_type": "code",
   "execution_count": null,
   "metadata": {
    "colab": {
     "base_uri": "https://localhost:8080/"
    },
    "executionInfo": {
     "elapsed": 79328,
     "status": "ok",
     "timestamp": 1621016261528,
     "user": {
      "displayName": "Manuel Plank",
      "photoUrl": "",
      "userId": "17725031238816109220"
     },
     "user_tz": -120
    },
    "id": "ewENvVtvUQ-H",
    "outputId": "ed0b7abf-08eb-4966-c637-ee1bbbabad4f"
   },
   "outputs": [],
   "source": [
    "from sklearn.model_selection import StratifiedKFold\n",
    "\n",
    "skfold = StratifiedKFold(n_splits=5, shuffle=True, random_state=42)\n",
    "k = 1\n",
    "val_acc = []\n",
    "val_f1 = []\n",
    "val_f1_micro = []\n",
    "val_f1_wmacro = []\n",
    "val_recall = []\n",
    "val_precision = []\n",
    "\n",
    "for train_index, val_index in skfold.split(x,y4):\n",
    "\n",
    "  train_features = x.iloc[train_index]\n",
    "  val_features = x.iloc[val_index]\n",
    "  train_labels = y4.iloc[train_index]\n",
    "  val_labels = y4.iloc[val_index]\n",
    "  val_sentences = sentence.iloc[val_index]\n",
    "  \n",
    "  dtrain = xgboost.DMatrix(train_features, label=train_labels, feature_names=feature_names)\n",
    "  dval = xgboost.DMatrix(val_features, label=val_labels, feature_names=feature_names)\n",
    "\n",
    "  xgboost_tuned_weighted = xgboost.train(\n",
    "    params,\n",
    "    dtrain,\n",
    "    num_boost_round=num_boost_round,\n",
    "    evals=[(dtrain, 'dtrain'), (dval, 'dval')],\n",
    "    feval=f1_eval,\n",
    "    early_stopping_rounds = 10,\n",
    "    maximize=True)\n",
    "  \n",
    "  xgboost_tuned_weighted_predt = np.where(xgboost_tuned_weighted.predict(dval) > 0.5, 1, 0)\n",
    "  \n",
    "  val_sentences['pred'] = xgboost_tuned_weighted_predt\n",
    "  val_sentences_hat = val_sentences.groupby('sentence', as_index=False).agg({'pred': 'sum'})\n",
    "  val_sentences_hat['Label_bias_hat'] = val_sentences_hat['pred'].apply(lambda x: 1 if x > 0 else 0)\n",
    "\n",
    " \n",
    "  PATH_sg2 = \"data/final_labels_SG2.xlsx\"\n",
    "  sentences_ground_truth = pd.read_excel(PATH_sg2)\n",
    "  sentences_ground_truth.rename(columns={'text': 'sentence', 'label_bias': 'Label_bias'}, inplace=True)\n",
    "  sentences_ground_truth = sentences_ground_truth[sentences_ground_truth['Label_bias']!='No agreement']\n",
    "  sentences_ground_truth.replace(to_replace='Biased', value=1, inplace=True)\n",
    "  sentences_ground_truth.replace(to_replace='Non-biased', value=0, inplace=True)\n",
    "\n",
    "  sentences_merged = val_sentences_hat.merge(right=sentences_ground_truth, how='left', on='sentence')\n",
    "  sentences_merged = sentences_merged[sentences_merged['Label_bias']!=99]\n",
    "  sentences_merged = sentences_merged[sentences_merged['Label_bias'].isna() == False]\n",
    "\n",
    "  val_f1.append(metrics.f1_score(sentences_merged['Label_bias'],sentences_merged['Label_bias_hat']))\n",
    "  val_f1_micro.append(metrics.f1_score(sentences_merged['Label_bias'],sentences_merged['Label_bias_hat'], average='micro'))\n",
    "  val_f1_wmacro.append(metrics.f1_score(sentences_merged['Label_bias'],sentences_merged['Label_bias_hat'], average='weighted'))\n",
    "  val_precision.append(metrics.precision_score(sentences_merged['Label_bias'],sentences_merged['Label_bias_hat']))\n",
    "  val_recall.append(metrics.recall_score(sentences_merged['Label_bias'],sentences_merged['Label_bias_hat']))\n",
    "  val_acc.append(metrics.accuracy_score(sentences_merged['Label_bias'],sentences_merged['Label_bias_hat']))\n",
    "\n",
    "  k += 1"
   ]
  },
  {
   "cell_type": "code",
   "execution_count": null,
   "metadata": {
    "colab": {
     "base_uri": "https://localhost:8080/"
    },
    "executionInfo": {
     "elapsed": 451,
     "status": "ok",
     "timestamp": 1621016262190,
     "user": {
      "displayName": "Manuel Plank",
      "photoUrl": "",
      "userId": "17725031238816109220"
     },
     "user_tz": -120
    },
    "id": "Rk7-4_glfcpv",
    "outputId": "afbb71af-8994-4e9b-c227-bb98ac345f2c"
   },
   "outputs": [],
   "source": [
    "print('5-Fold CV Accuracy: {}'.format(np.mean(val_acc)))\n",
    "print('5-Fold CV Precision: {}'.format(np.mean(val_precision)))\n",
    "print('5-Fold CV Recall: {}'.format(np.mean(val_recall)))\n",
    "print('5-Fold CV F1 Score: {}'.format(np.mean(val_f1)))\n",
    "print('5-Fold CV Micro F1 Score: {}'.format(np.mean(val_f1_micro)))\n",
    "print('5-Fold CV Weighted Macro F1 Score: {}'.format(np.mean(val_f1_wmacro)))"
   ]
  }
 ],
 "metadata": {
  "colab": {
   "name": "classification_baseline.ipynb",
   "provenance": []
  },
  "kernelspec": {
   "display_name": "Python 3 (ipykernel)",
   "language": "python",
   "name": "python3"
  },
  "language_info": {
   "codemirror_mode": {
    "name": "ipython",
    "version": 3
   },
   "file_extension": ".py",
   "mimetype": "text/x-python",
   "name": "python",
   "nbconvert_exporter": "python",
   "pygments_lexer": "ipython3",
   "version": "3.11.5"
  }
 },
 "nbformat": 4,
 "nbformat_minor": 4
}
